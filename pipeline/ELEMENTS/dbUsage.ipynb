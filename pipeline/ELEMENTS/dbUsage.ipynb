{
 "cells": [
  {
   "cell_type": "markdown",
   "metadata": {},
   "source": [
    "# DB 사용법\n",
    "\n",
    "* Author : 박용주\n",
    "* Date : 2022.1.10\n",
    "* 주의 : RAW SQL문보다 버튼으로 데이터프레임 다운로드하도록 함"
   ]
  },
  {
   "cell_type": "code",
   "execution_count": null,
   "metadata": {},
   "outputs": [],
   "source": [
    "# 패키지 설치\n",
    "%pip install pymysql==1.0.2"
   ]
  },
  {
   "cell_type": "code",
   "execution_count": 22,
   "metadata": {},
   "outputs": [
    {
     "ename": "ImportError",
     "evalue": "cannot import name 'showTB' from 'dbfunctions' (c:\\Users\\enkee\\OneDrive\\바탕 화면\\SNURO-EDM\\pipeline\\dbfunctions.py)",
     "output_type": "error",
     "traceback": [
      "\u001b[1;31m---------------------------------------------------------------------------\u001b[0m",
      "\u001b[1;31mImportError\u001b[0m                               Traceback (most recent call last)",
      "\u001b[1;32m~\\AppData\\Local\\Temp/ipykernel_5224/310487938.py\u001b[0m in \u001b[0;36m<module>\u001b[1;34m\u001b[0m\n\u001b[1;32m----> 1\u001b[1;33m \u001b[1;32mfrom\u001b[0m \u001b[0mdbfunctions\u001b[0m \u001b[1;32mimport\u001b[0m \u001b[0mconnectTOdb\u001b[0m\u001b[1;33m,\u001b[0m \u001b[0mshowTB\u001b[0m\u001b[1;33m,\u001b[0m \u001b[0mviewTable\u001b[0m\u001b[1;33m,\u001b[0m \u001b[0mdownloadTB\u001b[0m\u001b[1;33m,\u001b[0m \u001b[0mwhileDB\u001b[0m\u001b[1;33m\u001b[0m\u001b[1;33m\u001b[0m\u001b[0m\n\u001b[0m",
      "\u001b[1;31mImportError\u001b[0m: cannot import name 'showTB' from 'dbfunctions' (c:\\Users\\enkee\\OneDrive\\바탕 화면\\SNURO-EDM\\pipeline\\dbfunctions.py)"
     ]
    }
   ],
   "source": [
    "from dbfunctions import connectTOdb,showDB, showTB, viewTable, downloadTB, whileDB"
   ]
  },
  {
   "cell_type": "markdown",
   "metadata": {},
   "source": [
    "### 터미널을 통한 DB 다운로드"
   ]
  },
  {
   "cell_type": "code",
   "execution_count": 20,
   "metadata": {},
   "outputs": [
    {
     "ename": "AttributeError",
     "evalue": "module 'dbfunctions' has no attribute 'showDB'",
     "output_type": "error",
     "traceback": [
      "\u001b[1;31m---------------------------------------------------------------------------\u001b[0m",
      "\u001b[1;31mAttributeError\u001b[0m                            Traceback (most recent call last)",
      "\u001b[1;32m~\\AppData\\Local\\Temp/ipykernel_5224/2679336792.py\u001b[0m in \u001b[0;36m<module>\u001b[1;34m\u001b[0m\n\u001b[1;32m----> 1\u001b[1;33m \u001b[0mdbfunctions\u001b[0m\u001b[1;33m.\u001b[0m\u001b[0mshowDB\u001b[0m\u001b[1;33m(\u001b[0m\u001b[1;33m)\u001b[0m\u001b[1;33m\u001b[0m\u001b[1;33m\u001b[0m\u001b[0m\n\u001b[0m",
      "\u001b[1;31mAttributeError\u001b[0m: module 'dbfunctions' has no attribute 'showDB'"
     ]
    }
   ],
   "source": [
    "dbfunctions.showDB()"
   ]
  },
  {
   "cell_type": "code",
   "execution_count": null,
   "metadata": {},
   "outputs": [],
   "source": []
  }
 ],
 "metadata": {
  "interpreter": {
   "hash": "a4d224b1a5ecadd6a9d2f08431f016815f4ed180f240325060dba1e0c636d353"
  },
  "kernelspec": {
   "display_name": "Python 3.10.0 64-bit",
   "language": "python",
   "name": "python3"
  },
  "language_info": {
   "codemirror_mode": {
    "name": "ipython",
    "version": 3
   },
   "file_extension": ".py",
   "mimetype": "text/x-python",
   "name": "python",
   "nbconvert_exporter": "python",
   "pygments_lexer": "ipython3",
   "version": "3.10.0"
  },
  "orig_nbformat": 4
 },
 "nbformat": 4,
 "nbformat_minor": 2
}
